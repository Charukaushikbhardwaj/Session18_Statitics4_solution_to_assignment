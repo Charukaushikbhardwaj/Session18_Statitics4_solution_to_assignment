{
 "cells": [
  {
   "cell_type": "code",
   "execution_count": null,
   "metadata": {},
   "outputs": [],
   "source": [
    "Problem Statement 1:\n",
    "Is gender independent of education level? A random sample of 395 people were\n",
    "surveyed and each person was asked to report the highest education level they\n",
    "obtained. The data that resulted from the survey is summarized in the following table:\n",
    "High School Bachelors Masters Ph.d. Total\n",
    "Female 60 54 46 41 201\n",
    "8Male 40 44 53 57 194\n",
    "Total 100 98 99 98 395\n",
    "Question: Are gender and education level dependent at 5% level of significance? In\n",
    "other words, given the data collected above, is there a relationship between the gender\n",
    "of an individual and the level of education that they have obtained?"
   ]
  },
  {
   "cell_type": "code",
   "execution_count": null,
   "metadata": {},
   "outputs": [],
   "source": [
    "Solution 1\n",
    "We will use the Chi Square Test of Independence\n",
    "Let the table of the two variables viz gender and education level be:\n",
    "           High School     Bachelors   Masters   Ph.d.   Total\n",
    "Female        60              54         46        41     201\n",
    "Male          40              44         53        57     194\n",
    "Total         100             98         99        98     395\n",
    "\n",
    "Null Hypothesis: The two variables i.e. gender and the education level are independent of each other\n",
    "χ2=∑(O−E)^2/E\n",
    "where O is the observed frequency. E is the expected frequency under the null hypothesis\n",
    "E=(row total×column total)/sample size\n",
    "Lets make a table of the expected frequecy\n",
    "For example the expected count for the females in High school is (201*100)/395=50.87\n",
    "\n",
    "           High School    Bachelors     Masters    Ph.d.   Total\n",
    "Female        50.87        49.87         50.38      49.87   201\n",
    "Male          49.11        48.13         48.62      48.13   194\n",
    "Total          100           98            99        98     395\n",
    "\n",
    "Now calulating χ2=∑(O−E)^2/E for all the 8 entries in the table and adding them we get(the first term in calculating χ2 is\n",
    "(60-50.87)^2/50.87)\n",
    "=8.0\n",
    "\n",
    "The degrees of freedom for females and male is (4-1= 3 )\n",
    "so looking at the χ2 critical value at 5% level of significance we get 7.82\n",
    "Since the calculated value 8.0 > critical value 7.82 so we reject the null hypotheis ......instead the gender and the education \n",
    "level have some dependency.\n",
    "\n"
   ]
  },
  {
   "cell_type": "code",
   "execution_count": null,
   "metadata": {},
   "outputs": [],
   "source": [
    "Problem Statement 2:\n",
    "Using the following data, perform a oneway analysis of variance using α=.05. Write up\n",
    "the results in APA format.\n",
    "\n",
    "[Group1: 51, 45, 33, 45, 67]\n",
    "[Group2: 23, 43, 23, 43, 45]\n",
    "[Group3: 56, 76, 74, 87, 56]"
   ]
  },
  {
   "cell_type": "code",
   "execution_count": null,
   "metadata": {},
   "outputs": [],
   "source": [
    "Soluton 2\n",
    "Let the null hypothesis be that the variation between the groups is negligible so that\n",
    "H0: μ1 = μ2 = μ3 \n",
    "Ha: μ1 ≠ μ2 ≠ μ3\n",
    "Group1            Group2            Group3\n",
    "51                   23                56\n",
    "45                   43                76\n",
    "33                   23                74\n",
    "45                   43                87\n",
    "67                   45                56\n",
    "\n",
    "AVG1=(51+45+33+45+67)/5=48.2\n",
    "AVG2=35.4\n",
    "AVG3=69.8\n",
    "AVG=(AVG1+AVG2+AVG3)/3=51.13\n",
    "\n",
    "SSB=5*(AVG-AVG1)^2+5*(AVG-AVG2)^2+5*(AVG-AVG3)^2=3022.93\n",
    "DSSB=3-1=2\n",
    "\n",
    "SSW=(612.8+515.2+761.4)=1889.4\n",
    "DSSW=4+4+4=12\n",
    "\n",
    "F=SSB*DSSW/(SSW*DSSB)\n",
    "F=9.6\n",
    "F critical calculated from the F table with significance=0.05 is 3.89\n",
    "Since our value of F is way higher than the critical value so we reject our null hypothesis and assume hat the groups have a\n",
    "significantly varying mean.\n"
   ]
  },
  {
   "cell_type": "code",
   "execution_count": null,
   "metadata": {},
   "outputs": [],
   "source": [
    "Problem Statement 3:\n",
    "Calculate F Test for given 10, 20, 30, 40, 50 and 5,10,15, 20, 25.\n",
    "For 10, 20, 30, 40, 50"
   ]
  },
  {
   "cell_type": "code",
   "execution_count": null,
   "metadata": {},
   "outputs": [],
   "source": [
    "Solution 3\n",
    "Null Hypothesis\n",
    "H0: μ1 = μ2\n",
    "Variance of the first data (10,20,30,40,50)\n",
    "SD1=sqrt(1/(N-1)*((x1-xm)2+(x2-xm)2+..+(xn-xm)2)) \n",
    "   =15.81\n",
    "Variance1=SD1^2=15.81*15.81\n",
    "         =250\n",
    "    Degrees of freedom 1=(5-1)=4\n",
    "SD2=7.905\n",
    "\n",
    "Variance of the seconddataset (5,10,15,20,25)\n",
    "SD2=7.905\n",
    "Variance2=62.5\n",
    "Degrees of freedom 2=(5-1)=4\n",
    "\n",
    "F=Variance1/Variance2\n",
    " =250/62.5\n",
    " =4 \n",
    "F critical from table with significance level 0.05 is 6.388\n",
    "Since the calculated F value is less than the one got from the table so we accept the null hypothesis....the datasets are\n",
    "not statistically different.\n",
    "\n"
   ]
  }
 ],
 "metadata": {
  "kernelspec": {
   "display_name": "Python 3",
   "language": "python",
   "name": "python3"
  },
  "language_info": {
   "codemirror_mode": {
    "name": "ipython",
    "version": 3
   },
   "file_extension": ".py",
   "mimetype": "text/x-python",
   "name": "python",
   "nbconvert_exporter": "python",
   "pygments_lexer": "ipython3",
   "version": "3.6.5"
  }
 },
 "nbformat": 4,
 "nbformat_minor": 2
}
